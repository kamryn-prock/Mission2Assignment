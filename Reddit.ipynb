{
  "nbformat": 4,
  "nbformat_minor": 0,
  "metadata": {
    "colab": {
      "name": "Reddit.ipynb",
      "provenance": [],
      "authorship_tag": "ABX9TyOhMuMArIfRRfRpzyNY5s4K",
      "include_colab_link": true
    },
    "kernelspec": {
      "name": "python3",
      "display_name": "Python 3"
    },
    "language_info": {
      "name": "python"
    }
  },
  "cells": [
    {
      "cell_type": "markdown",
      "metadata": {
        "id": "view-in-github",
        "colab_type": "text"
      },
      "source": [
        "<a href=\"https://colab.research.google.com/github/kamryn-prock/Mission2Assignment/blob/master/Reddit.ipynb\" target=\"_parent\"><img src=\"https://colab.research.google.com/assets/colab-badge.svg\" alt=\"Open In Colab\"/></a>"
      ]
    },
    {
      "cell_type": "code",
      "execution_count": 183,
      "metadata": {
        "id": "oZ5rlejYlW_H"
      },
      "outputs": [],
      "source": [
        "import requests\n",
        "import pandas as pd\n",
        "\n",
        "client_id = 'JVW6FAhgAjYqULvjqe_45A'\n",
        "secret_key = \"ne44k58NVd64-N30ladVBesMPKFLIw\""
      ]
    },
    {
      "cell_type": "code",
      "source": [
        "auth = requests.auth.HTTPBasicAuth(client_id, secret_key)"
      ],
      "metadata": {
        "id": "f72Wg7446fhW"
      },
      "execution_count": 184,
      "outputs": []
    },
    {
      "cell_type": "code",
      "source": [
        "data = {\n",
        "    \"grant_type\" : \"password\",\n",
        "    \"username\" : 'kamryn_prock',\n",
        "    'password' : 'partyb0ttle28'\n",
        "}"
      ],
      "metadata": {
        "id": "X9IDDePB6qlq"
      },
      "execution_count": 185,
      "outputs": []
    },
    {
      "cell_type": "code",
      "source": [
        "headers = {\"User-Agent\": \"MyApI/0.0.1\"}"
      ],
      "metadata": {
        "id": "yEDYWZq08Xla"
      },
      "execution_count": 186,
      "outputs": []
    },
    {
      "cell_type": "code",
      "source": [
        "res = requests.post('https://www.reddit.com/api/v1/access_token',\n",
        "                    auth=auth, data=data, headers=headers)"
      ],
      "metadata": {
        "id": "otee4XMl8mFW"
      },
      "execution_count": 187,
      "outputs": []
    },
    {
      "cell_type": "code",
      "source": [
        "access_token = res.json()['access_token']"
      ],
      "metadata": {
        "id": "iq3i0OrK88cn"
      },
      "execution_count": 188,
      "outputs": []
    },
    {
      "cell_type": "code",
      "source": [
        "headers['Authorization'] = f'bearer {access_token}'\n",
        "headers"
      ],
      "metadata": {
        "id": "-IT7h8Nl9If7"
      },
      "execution_count": null,
      "outputs": []
    },
    {
      "cell_type": "code",
      "source": [
        "requests.get('https://oauth.reddit.com/api/v1/me', headers={'User-Agent' : 'MyAPI/0.0.1'})"
      ],
      "metadata": {
        "id": "c3sGLaP69iw0"
      },
      "execution_count": null,
      "outputs": []
    },
    {
      "cell_type": "code",
      "source": [
        "requests.get('https://oauth.reddit.com/api/v1/me', headers=headers).json()"
      ],
      "metadata": {
        "id": "iz_nUtkT98t9"
      },
      "execution_count": null,
      "outputs": []
    },
    {
      "cell_type": "code",
      "source": [
        "post['data'].keys()"
      ],
      "metadata": {
        "id": "SuZqc1QLHQoL"
      },
      "execution_count": null,
      "outputs": []
    },
    {
      "cell_type": "code",
      "source": [
        "topic_list = ['Rihanna', 'Maroon5', 'PostMalone','HarryStyles', 'JustinBieber', 'EdSheeran', 'SamSmith', 'Beyonce', 'OliviaRodrigo']\n",
        "df2 = pd.DataFrame()\n",
        "for i in range (len(topic_list)):\n",
        "  topic = topic_list[i]\n",
        "  res = requests.get('https://oauth.reddit.com/r/' + topic +'/hot',\n",
        "                  headers=headers, params={'limit': '100'})\n",
        "  \n",
        "  for post in res.json()['data']['children']:\n",
        "    df2 = df2.append({\n",
        "        'subreddit' : post['data']['subreddit'],\n",
        "        'title' : post['data']['title'],\n",
        "        'selftext': post['data']['selftext'],\n",
        "        'upvote_ratio' : post['data']['upvote_ratio'],\n",
        "        'ups' : post['data']['ups'],\n",
        "        'score': post['data']['score'],\n",
        "        'num_comments': post['data']['num_comments'],\n",
        "        'Image_URL' : post['data']['url'],\n",
        "        #'image': post['data']['secure_media_embed']\n",
        "    }, ignore_index=True)\n",
        "\n",
        "\n",
        "df2\n",
        "\n",
        "#how to eliminate rows in a dataframe that don't meet criteria /"
      ],
      "metadata": {
        "colab": {
          "base_uri": "https://localhost:8080/",
          "height": 537
        },
        "id": "bKlO8uFZKRZr",
        "outputId": "dcd391d1-9855-49b1-b6a2-8163520c2344"
      },
      "execution_count": 193,
      "outputs": [
        {
          "output_type": "execute_result",
          "data": {
            "text/html": [
              "\n",
              "  <div id=\"df-10581fa1-f5e6-4aff-a58f-a137c6ead3c1\">\n",
              "    <div class=\"colab-df-container\">\n",
              "      <div>\n",
              "<style scoped>\n",
              "    .dataframe tbody tr th:only-of-type {\n",
              "        vertical-align: middle;\n",
              "    }\n",
              "\n",
              "    .dataframe tbody tr th {\n",
              "        vertical-align: top;\n",
              "    }\n",
              "\n",
              "    .dataframe thead th {\n",
              "        text-align: right;\n",
              "    }\n",
              "</style>\n",
              "<table border=\"1\" class=\"dataframe\">\n",
              "  <thead>\n",
              "    <tr style=\"text-align: right;\">\n",
              "      <th></th>\n",
              "      <th>Image_URL</th>\n",
              "      <th>num_comments</th>\n",
              "      <th>score</th>\n",
              "      <th>selftext</th>\n",
              "      <th>subreddit</th>\n",
              "      <th>title</th>\n",
              "      <th>ups</th>\n",
              "      <th>upvote_ratio</th>\n",
              "    </tr>\n",
              "  </thead>\n",
              "  <tbody>\n",
              "    <tr>\n",
              "      <th>0</th>\n",
              "      <td>https://v.redd.it/xes0f70sqou71</td>\n",
              "      <td>68.0</td>\n",
              "      <td>2943.0</td>\n",
              "      <td></td>\n",
              "      <td>Rihanna</td>\n",
              "      <td>BBHMM VR!</td>\n",
              "      <td>2943.0</td>\n",
              "      <td>1.00</td>\n",
              "    </tr>\n",
              "    <tr>\n",
              "      <th>1</th>\n",
              "      <td>https://i.redd.it/dr2bsn1qcne81.jpg</td>\n",
              "      <td>4.0</td>\n",
              "      <td>688.0</td>\n",
              "      <td></td>\n",
              "      <td>Rihanna</td>\n",
              "      <td>Savage</td>\n",
              "      <td>688.0</td>\n",
              "      <td>0.99</td>\n",
              "    </tr>\n",
              "    <tr>\n",
              "      <th>2</th>\n",
              "      <td>https://i.redd.it/mv6kauoh3oe81.jpg</td>\n",
              "      <td>2.0</td>\n",
              "      <td>327.0</td>\n",
              "      <td></td>\n",
              "      <td>Rihanna</td>\n",
              "      <td>sexy</td>\n",
              "      <td>327.0</td>\n",
              "      <td>0.99</td>\n",
              "    </tr>\n",
              "    <tr>\n",
              "      <th>3</th>\n",
              "      <td>https://www.reddit.com/gallery/sfqinl</td>\n",
              "      <td>0.0</td>\n",
              "      <td>142.0</td>\n",
              "      <td></td>\n",
              "      <td>Rihanna</td>\n",
              "      <td>I adore her so much.</td>\n",
              "      <td>142.0</td>\n",
              "      <td>0.99</td>\n",
              "    </tr>\n",
              "    <tr>\n",
              "      <th>4</th>\n",
              "      <td>https://www.reddit.com/gallery/sfqjvm</td>\n",
              "      <td>0.0</td>\n",
              "      <td>95.0</td>\n",
              "      <td></td>\n",
              "      <td>Rihanna</td>\n",
              "      <td>Wild Thoughs.</td>\n",
              "      <td>95.0</td>\n",
              "      <td>1.00</td>\n",
              "    </tr>\n",
              "    <tr>\n",
              "      <th>...</th>\n",
              "      <td>...</td>\n",
              "      <td>...</td>\n",
              "      <td>...</td>\n",
              "      <td>...</td>\n",
              "      <td>...</td>\n",
              "      <td>...</td>\n",
              "      <td>...</td>\n",
              "      <td>...</td>\n",
              "    </tr>\n",
              "    <tr>\n",
              "      <th>905</th>\n",
              "      <td>https://i.redd.it/8nu740ezvy681.jpg</td>\n",
              "      <td>6.0</td>\n",
              "      <td>39.0</td>\n",
              "      <td></td>\n",
              "      <td>OliviaRodrigo</td>\n",
              "      <td>Hi everyone! I’m new to Olivia merch, so compl...</td>\n",
              "      <td>39.0</td>\n",
              "      <td>0.94</td>\n",
              "    </tr>\n",
              "    <tr>\n",
              "      <th>906</th>\n",
              "      <td>https://www.reddit.com/gallery/rle8da</td>\n",
              "      <td>8.0</td>\n",
              "      <td>122.0</td>\n",
              "      <td></td>\n",
              "      <td>OliviaRodrigo</td>\n",
              "      <td>“Sour” as AI Artwork</td>\n",
              "      <td>122.0</td>\n",
              "      <td>0.98</td>\n",
              "    </tr>\n",
              "    <tr>\n",
              "      <th>907</th>\n",
              "      <td>https://www.reddit.com/r/OliviaRodrigo/comment...</td>\n",
              "      <td>1.0</td>\n",
              "      <td>18.0</td>\n",
              "      <td>The title is pretty self-explanatory, but I ju...</td>\n",
              "      <td>OliviaRodrigo</td>\n",
              "      <td>Unreleased Songs?</td>\n",
              "      <td>18.0</td>\n",
              "      <td>0.86</td>\n",
              "    </tr>\n",
              "    <tr>\n",
              "      <th>908</th>\n",
              "      <td>https://www.reddit.com/r/OliviaRodrigo/comment...</td>\n",
              "      <td>5.0</td>\n",
              "      <td>12.0</td>\n",
              "      <td>Hope ur ok is definitely on the top of my list...</td>\n",
              "      <td>OliviaRodrigo</td>\n",
              "      <td>Why hasn’t olivia done a live for hope ur ok yet?</td>\n",
              "      <td>12.0</td>\n",
              "      <td>0.93</td>\n",
              "    </tr>\n",
              "    <tr>\n",
              "      <th>909</th>\n",
              "      <td>https://v.redd.it/pqfvgfyqzy681</td>\n",
              "      <td>0.0</td>\n",
              "      <td>11.0</td>\n",
              "      <td></td>\n",
              "      <td>OliviaRodrigo</td>\n",
              "      <td>did a little bit of reharmonization on deja vu...</td>\n",
              "      <td>11.0</td>\n",
              "      <td>0.82</td>\n",
              "    </tr>\n",
              "  </tbody>\n",
              "</table>\n",
              "<p>910 rows × 8 columns</p>\n",
              "</div>\n",
              "      <button class=\"colab-df-convert\" onclick=\"convertToInteractive('df-10581fa1-f5e6-4aff-a58f-a137c6ead3c1')\"\n",
              "              title=\"Convert this dataframe to an interactive table.\"\n",
              "              style=\"display:none;\">\n",
              "        \n",
              "  <svg xmlns=\"http://www.w3.org/2000/svg\" height=\"24px\"viewBox=\"0 0 24 24\"\n",
              "       width=\"24px\">\n",
              "    <path d=\"M0 0h24v24H0V0z\" fill=\"none\"/>\n",
              "    <path d=\"M18.56 5.44l.94 2.06.94-2.06 2.06-.94-2.06-.94-.94-2.06-.94 2.06-2.06.94zm-11 1L8.5 8.5l.94-2.06 2.06-.94-2.06-.94L8.5 2.5l-.94 2.06-2.06.94zm10 10l.94 2.06.94-2.06 2.06-.94-2.06-.94-.94-2.06-.94 2.06-2.06.94z\"/><path d=\"M17.41 7.96l-1.37-1.37c-.4-.4-.92-.59-1.43-.59-.52 0-1.04.2-1.43.59L10.3 9.45l-7.72 7.72c-.78.78-.78 2.05 0 2.83L4 21.41c.39.39.9.59 1.41.59.51 0 1.02-.2 1.41-.59l7.78-7.78 2.81-2.81c.8-.78.8-2.07 0-2.86zM5.41 20L4 18.59l7.72-7.72 1.47 1.35L5.41 20z\"/>\n",
              "  </svg>\n",
              "      </button>\n",
              "      \n",
              "  <style>\n",
              "    .colab-df-container {\n",
              "      display:flex;\n",
              "      flex-wrap:wrap;\n",
              "      gap: 12px;\n",
              "    }\n",
              "\n",
              "    .colab-df-convert {\n",
              "      background-color: #E8F0FE;\n",
              "      border: none;\n",
              "      border-radius: 50%;\n",
              "      cursor: pointer;\n",
              "      display: none;\n",
              "      fill: #1967D2;\n",
              "      height: 32px;\n",
              "      padding: 0 0 0 0;\n",
              "      width: 32px;\n",
              "    }\n",
              "\n",
              "    .colab-df-convert:hover {\n",
              "      background-color: #E2EBFA;\n",
              "      box-shadow: 0px 1px 2px rgba(60, 64, 67, 0.3), 0px 1px 3px 1px rgba(60, 64, 67, 0.15);\n",
              "      fill: #174EA6;\n",
              "    }\n",
              "\n",
              "    [theme=dark] .colab-df-convert {\n",
              "      background-color: #3B4455;\n",
              "      fill: #D2E3FC;\n",
              "    }\n",
              "\n",
              "    [theme=dark] .colab-df-convert:hover {\n",
              "      background-color: #434B5C;\n",
              "      box-shadow: 0px 1px 3px 1px rgba(0, 0, 0, 0.15);\n",
              "      filter: drop-shadow(0px 1px 2px rgba(0, 0, 0, 0.3));\n",
              "      fill: #FFFFFF;\n",
              "    }\n",
              "  </style>\n",
              "\n",
              "      <script>\n",
              "        const buttonEl =\n",
              "          document.querySelector('#df-10581fa1-f5e6-4aff-a58f-a137c6ead3c1 button.colab-df-convert');\n",
              "        buttonEl.style.display =\n",
              "          google.colab.kernel.accessAllowed ? 'block' : 'none';\n",
              "\n",
              "        async function convertToInteractive(key) {\n",
              "          const element = document.querySelector('#df-10581fa1-f5e6-4aff-a58f-a137c6ead3c1');\n",
              "          const dataTable =\n",
              "            await google.colab.kernel.invokeFunction('convertToInteractive',\n",
              "                                                     [key], {});\n",
              "          if (!dataTable) return;\n",
              "\n",
              "          const docLinkHtml = 'Like what you see? Visit the ' +\n",
              "            '<a target=\"_blank\" href=https://colab.research.google.com/notebooks/data_table.ipynb>data table notebook</a>'\n",
              "            + ' to learn more about interactive tables.';\n",
              "          element.innerHTML = '';\n",
              "          dataTable['output_type'] = 'display_data';\n",
              "          await google.colab.output.renderOutput(dataTable, element);\n",
              "          const docLink = document.createElement('div');\n",
              "          docLink.innerHTML = docLinkHtml;\n",
              "          element.appendChild(docLink);\n",
              "        }\n",
              "      </script>\n",
              "    </div>\n",
              "  </div>\n",
              "  "
            ],
            "text/plain": [
              "                                             Image_URL  ...  upvote_ratio\n",
              "0                      https://v.redd.it/xes0f70sqou71  ...          1.00\n",
              "1                  https://i.redd.it/dr2bsn1qcne81.jpg  ...          0.99\n",
              "2                  https://i.redd.it/mv6kauoh3oe81.jpg  ...          0.99\n",
              "3                https://www.reddit.com/gallery/sfqinl  ...          0.99\n",
              "4                https://www.reddit.com/gallery/sfqjvm  ...          1.00\n",
              "..                                                 ...  ...           ...\n",
              "905                https://i.redd.it/8nu740ezvy681.jpg  ...          0.94\n",
              "906              https://www.reddit.com/gallery/rle8da  ...          0.98\n",
              "907  https://www.reddit.com/r/OliviaRodrigo/comment...  ...          0.86\n",
              "908  https://www.reddit.com/r/OliviaRodrigo/comment...  ...          0.93\n",
              "909                    https://v.redd.it/pqfvgfyqzy681  ...          0.82\n",
              "\n",
              "[910 rows x 8 columns]"
            ]
          },
          "metadata": {},
          "execution_count": 193
        }
      ]
    }
  ]
}